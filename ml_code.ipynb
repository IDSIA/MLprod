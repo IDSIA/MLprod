{
 "cells": [
  {
   "cell_type": "code",
   "execution_count": 2,
   "metadata": {},
   "outputs": [],
   "source": [
    "import pandas as pd\n",
    "import numpy as np\n",
    "\n",
    "from sklearn.model_selection import train_test_split\n",
    "from sklearn.preprocessing import MinMaxScaler\n",
    "\n",
    "import torch\n",
    "import torch.nn as nn\n",
    "from tqdm import tqdm\n",
    "\n",
    "import seaborn as sns\n",
    "import matplotlib.pyplot as plt\n"
   ]
  },
  {
   "cell_type": "code",
   "execution_count": 3,
   "metadata": {},
   "outputs": [],
   "source": [
    "dataset = pd.read_csv('dataset/dataset_labelled.tsv', sep='\\t')"
   ]
  },
  {
   "cell_type": "code",
   "execution_count": 4,
   "metadata": {},
   "outputs": [],
   "source": [
    "def age_analyse(x):\n",
    "    x = np.array(x[1:-1].split(', ')).astype('int')\n",
    "    x_min = x.min()\n",
    "    x_max = x.max()\n",
    "    x_std = x.std()\n",
    "\n",
    "    return pd.Series([x_min, x_max, x_std])\n",
    "\n",
    "dataset[['age_min', 'age_max', 'age_std']] = dataset['people_age'].apply(age_analyse)"
   ]
  },
  {
   "cell_type": "code",
   "execution_count": 5,
   "metadata": {},
   "outputs": [],
   "source": [
    "dataset.drop(['people_age', 'time_arrival'], inplace=True, axis=1)"
   ]
  },
  {
   "cell_type": "code",
   "execution_count": 6,
   "metadata": {},
   "outputs": [
    {
     "data": {
      "text/html": [
       "<div>\n",
       "<style scoped>\n",
       "    .dataframe tbody tr th:only-of-type {\n",
       "        vertical-align: middle;\n",
       "    }\n",
       "\n",
       "    .dataframe tbody tr th {\n",
       "        vertical-align: top;\n",
       "    }\n",
       "\n",
       "    .dataframe thead th {\n",
       "        text-align: right;\n",
       "    }\n",
       "</style>\n",
       "<table border=\"1\" class=\"dataframe\">\n",
       "  <thead>\n",
       "    <tr style=\"text-align: right;\">\n",
       "      <th></th>\n",
       "      <th>people_num</th>\n",
       "      <th>children</th>\n",
       "      <th>budget</th>\n",
       "      <th>nights</th>\n",
       "      <th>spa</th>\n",
       "      <th>pool</th>\n",
       "      <th>pet_friendly</th>\n",
       "      <th>lakes</th>\n",
       "      <th>mountains</th>\n",
       "      <th>sport</th>\n",
       "      <th>...</th>\n",
       "      <th>family_rating</th>\n",
       "      <th>outdoor_rating</th>\n",
       "      <th>food_rating</th>\n",
       "      <th>leisure_rating</th>\n",
       "      <th>service_rating</th>\n",
       "      <th>user_score</th>\n",
       "      <th>label</th>\n",
       "      <th>age_min</th>\n",
       "      <th>age_max</th>\n",
       "      <th>age_std</th>\n",
       "    </tr>\n",
       "  </thead>\n",
       "  <tbody>\n",
       "    <tr>\n",
       "      <th>0</th>\n",
       "      <td>3</td>\n",
       "      <td>False</td>\n",
       "      <td>138.798883</td>\n",
       "      <td>1</td>\n",
       "      <td>True</td>\n",
       "      <td>True</td>\n",
       "      <td>False</td>\n",
       "      <td>True</td>\n",
       "      <td>True</td>\n",
       "      <td>True</td>\n",
       "      <td>...</td>\n",
       "      <td>1.341722</td>\n",
       "      <td>1.977943</td>\n",
       "      <td>3.904595</td>\n",
       "      <td>2.760953</td>\n",
       "      <td>1.316275</td>\n",
       "      <td>0.615780</td>\n",
       "      <td>0.0</td>\n",
       "      <td>18.0</td>\n",
       "      <td>24.0</td>\n",
       "      <td>2.624669</td>\n",
       "    </tr>\n",
       "    <tr>\n",
       "      <th>1</th>\n",
       "      <td>3</td>\n",
       "      <td>True</td>\n",
       "      <td>138.798883</td>\n",
       "      <td>1</td>\n",
       "      <td>False</td>\n",
       "      <td>False</td>\n",
       "      <td>False</td>\n",
       "      <td>True</td>\n",
       "      <td>True</td>\n",
       "      <td>False</td>\n",
       "      <td>...</td>\n",
       "      <td>2.891142</td>\n",
       "      <td>1.937565</td>\n",
       "      <td>5.511516</td>\n",
       "      <td>0.081772</td>\n",
       "      <td>4.375542</td>\n",
       "      <td>3.902291</td>\n",
       "      <td>0.0</td>\n",
       "      <td>18.0</td>\n",
       "      <td>24.0</td>\n",
       "      <td>2.624669</td>\n",
       "    </tr>\n",
       "    <tr>\n",
       "      <th>2</th>\n",
       "      <td>3</td>\n",
       "      <td>False</td>\n",
       "      <td>138.798883</td>\n",
       "      <td>1</td>\n",
       "      <td>True</td>\n",
       "      <td>True</td>\n",
       "      <td>False</td>\n",
       "      <td>True</td>\n",
       "      <td>True</td>\n",
       "      <td>True</td>\n",
       "      <td>...</td>\n",
       "      <td>0.135038</td>\n",
       "      <td>0.943798</td>\n",
       "      <td>2.814335</td>\n",
       "      <td>1.348137</td>\n",
       "      <td>4.233355</td>\n",
       "      <td>1.995977</td>\n",
       "      <td>0.0</td>\n",
       "      <td>18.0</td>\n",
       "      <td>24.0</td>\n",
       "      <td>2.624669</td>\n",
       "    </tr>\n",
       "    <tr>\n",
       "      <th>3</th>\n",
       "      <td>3</td>\n",
       "      <td>False</td>\n",
       "      <td>138.798883</td>\n",
       "      <td>1</td>\n",
       "      <td>True</td>\n",
       "      <td>True</td>\n",
       "      <td>False</td>\n",
       "      <td>True</td>\n",
       "      <td>True</td>\n",
       "      <td>False</td>\n",
       "      <td>...</td>\n",
       "      <td>0.797574</td>\n",
       "      <td>1.716623</td>\n",
       "      <td>4.799925</td>\n",
       "      <td>3.574869</td>\n",
       "      <td>0.862926</td>\n",
       "      <td>1.873151</td>\n",
       "      <td>0.0</td>\n",
       "      <td>18.0</td>\n",
       "      <td>24.0</td>\n",
       "      <td>2.624669</td>\n",
       "    </tr>\n",
       "    <tr>\n",
       "      <th>4</th>\n",
       "      <td>3</td>\n",
       "      <td>True</td>\n",
       "      <td>138.798883</td>\n",
       "      <td>1</td>\n",
       "      <td>True</td>\n",
       "      <td>False</td>\n",
       "      <td>False</td>\n",
       "      <td>True</td>\n",
       "      <td>True</td>\n",
       "      <td>True</td>\n",
       "      <td>...</td>\n",
       "      <td>2.776166</td>\n",
       "      <td>1.409502</td>\n",
       "      <td>3.763358</td>\n",
       "      <td>1.729342</td>\n",
       "      <td>4.480145</td>\n",
       "      <td>4.818102</td>\n",
       "      <td>0.0</td>\n",
       "      <td>18.0</td>\n",
       "      <td>24.0</td>\n",
       "      <td>2.624669</td>\n",
       "    </tr>\n",
       "    <tr>\n",
       "      <th>...</th>\n",
       "      <td>...</td>\n",
       "      <td>...</td>\n",
       "      <td>...</td>\n",
       "      <td>...</td>\n",
       "      <td>...</td>\n",
       "      <td>...</td>\n",
       "      <td>...</td>\n",
       "      <td>...</td>\n",
       "      <td>...</td>\n",
       "      <td>...</td>\n",
       "      <td>...</td>\n",
       "      <td>...</td>\n",
       "      <td>...</td>\n",
       "      <td>...</td>\n",
       "      <td>...</td>\n",
       "      <td>...</td>\n",
       "      <td>...</td>\n",
       "      <td>...</td>\n",
       "      <td>...</td>\n",
       "      <td>...</td>\n",
       "      <td>...</td>\n",
       "    </tr>\n",
       "    <tr>\n",
       "      <th>9995</th>\n",
       "      <td>2</td>\n",
       "      <td>True</td>\n",
       "      <td>534.735442</td>\n",
       "      <td>3</td>\n",
       "      <td>True</td>\n",
       "      <td>True</td>\n",
       "      <td>False</td>\n",
       "      <td>True</td>\n",
       "      <td>False</td>\n",
       "      <td>False</td>\n",
       "      <td>...</td>\n",
       "      <td>2.294961</td>\n",
       "      <td>2.450650</td>\n",
       "      <td>4.951045</td>\n",
       "      <td>1.798212</td>\n",
       "      <td>2.774078</td>\n",
       "      <td>2.540988</td>\n",
       "      <td>0.0</td>\n",
       "      <td>23.0</td>\n",
       "      <td>36.0</td>\n",
       "      <td>6.500000</td>\n",
       "    </tr>\n",
       "    <tr>\n",
       "      <th>9996</th>\n",
       "      <td>2</td>\n",
       "      <td>False</td>\n",
       "      <td>534.735442</td>\n",
       "      <td>3</td>\n",
       "      <td>True</td>\n",
       "      <td>True</td>\n",
       "      <td>False</td>\n",
       "      <td>True</td>\n",
       "      <td>False</td>\n",
       "      <td>False</td>\n",
       "      <td>...</td>\n",
       "      <td>3.148868</td>\n",
       "      <td>3.886043</td>\n",
       "      <td>5.120518</td>\n",
       "      <td>2.991340</td>\n",
       "      <td>0.885180</td>\n",
       "      <td>4.367160</td>\n",
       "      <td>1.0</td>\n",
       "      <td>23.0</td>\n",
       "      <td>36.0</td>\n",
       "      <td>6.500000</td>\n",
       "    </tr>\n",
       "    <tr>\n",
       "      <th>9997</th>\n",
       "      <td>2</td>\n",
       "      <td>True</td>\n",
       "      <td>534.735442</td>\n",
       "      <td>3</td>\n",
       "      <td>True</td>\n",
       "      <td>True</td>\n",
       "      <td>False</td>\n",
       "      <td>True</td>\n",
       "      <td>False</td>\n",
       "      <td>False</td>\n",
       "      <td>...</td>\n",
       "      <td>1.481143</td>\n",
       "      <td>4.725230</td>\n",
       "      <td>0.824057</td>\n",
       "      <td>1.549270</td>\n",
       "      <td>1.549634</td>\n",
       "      <td>2.205281</td>\n",
       "      <td>0.0</td>\n",
       "      <td>23.0</td>\n",
       "      <td>36.0</td>\n",
       "      <td>6.500000</td>\n",
       "    </tr>\n",
       "    <tr>\n",
       "      <th>9998</th>\n",
       "      <td>2</td>\n",
       "      <td>False</td>\n",
       "      <td>534.735442</td>\n",
       "      <td>3</td>\n",
       "      <td>True</td>\n",
       "      <td>True</td>\n",
       "      <td>False</td>\n",
       "      <td>True</td>\n",
       "      <td>False</td>\n",
       "      <td>False</td>\n",
       "      <td>...</td>\n",
       "      <td>2.528645</td>\n",
       "      <td>1.212675</td>\n",
       "      <td>5.541728</td>\n",
       "      <td>3.560059</td>\n",
       "      <td>4.038352</td>\n",
       "      <td>3.480947</td>\n",
       "      <td>0.0</td>\n",
       "      <td>23.0</td>\n",
       "      <td>36.0</td>\n",
       "      <td>6.500000</td>\n",
       "    </tr>\n",
       "    <tr>\n",
       "      <th>9999</th>\n",
       "      <td>2</td>\n",
       "      <td>False</td>\n",
       "      <td>534.735442</td>\n",
       "      <td>3</td>\n",
       "      <td>True</td>\n",
       "      <td>False</td>\n",
       "      <td>False</td>\n",
       "      <td>True</td>\n",
       "      <td>False</td>\n",
       "      <td>True</td>\n",
       "      <td>...</td>\n",
       "      <td>1.497259</td>\n",
       "      <td>0.134893</td>\n",
       "      <td>4.366200</td>\n",
       "      <td>2.693505</td>\n",
       "      <td>1.039946</td>\n",
       "      <td>0.084877</td>\n",
       "      <td>0.0</td>\n",
       "      <td>23.0</td>\n",
       "      <td>36.0</td>\n",
       "      <td>6.500000</td>\n",
       "    </tr>\n",
       "  </tbody>\n",
       "</table>\n",
       "<p>10000 rows × 27 columns</p>\n",
       "</div>"
      ],
      "text/plain": [
       "      people_num  children      budget  nights    spa   pool  pet_friendly  \\\n",
       "0              3     False  138.798883       1   True   True         False   \n",
       "1              3      True  138.798883       1  False  False         False   \n",
       "2              3     False  138.798883       1   True   True         False   \n",
       "3              3     False  138.798883       1   True   True         False   \n",
       "4              3      True  138.798883       1   True  False         False   \n",
       "...          ...       ...         ...     ...    ...    ...           ...   \n",
       "9995           2      True  534.735442       3   True   True         False   \n",
       "9996           2     False  534.735442       3   True   True         False   \n",
       "9997           2      True  534.735442       3   True   True         False   \n",
       "9998           2     False  534.735442       3   True   True         False   \n",
       "9999           2     False  534.735442       3   True  False         False   \n",
       "\n",
       "      lakes  mountains  sport  ...  family_rating  outdoor_rating  \\\n",
       "0      True       True   True  ...       1.341722        1.977943   \n",
       "1      True       True  False  ...       2.891142        1.937565   \n",
       "2      True       True   True  ...       0.135038        0.943798   \n",
       "3      True       True  False  ...       0.797574        1.716623   \n",
       "4      True       True   True  ...       2.776166        1.409502   \n",
       "...     ...        ...    ...  ...            ...             ...   \n",
       "9995   True      False  False  ...       2.294961        2.450650   \n",
       "9996   True      False  False  ...       3.148868        3.886043   \n",
       "9997   True      False  False  ...       1.481143        4.725230   \n",
       "9998   True      False  False  ...       2.528645        1.212675   \n",
       "9999   True      False   True  ...       1.497259        0.134893   \n",
       "\n",
       "      food_rating  leisure_rating  service_rating  user_score  label  age_min  \\\n",
       "0        3.904595        2.760953        1.316275    0.615780    0.0     18.0   \n",
       "1        5.511516        0.081772        4.375542    3.902291    0.0     18.0   \n",
       "2        2.814335        1.348137        4.233355    1.995977    0.0     18.0   \n",
       "3        4.799925        3.574869        0.862926    1.873151    0.0     18.0   \n",
       "4        3.763358        1.729342        4.480145    4.818102    0.0     18.0   \n",
       "...           ...             ...             ...         ...    ...      ...   \n",
       "9995     4.951045        1.798212        2.774078    2.540988    0.0     23.0   \n",
       "9996     5.120518        2.991340        0.885180    4.367160    1.0     23.0   \n",
       "9997     0.824057        1.549270        1.549634    2.205281    0.0     23.0   \n",
       "9998     5.541728        3.560059        4.038352    3.480947    0.0     23.0   \n",
       "9999     4.366200        2.693505        1.039946    0.084877    0.0     23.0   \n",
       "\n",
       "      age_max   age_std  \n",
       "0        24.0  2.624669  \n",
       "1        24.0  2.624669  \n",
       "2        24.0  2.624669  \n",
       "3        24.0  2.624669  \n",
       "4        24.0  2.624669  \n",
       "...       ...       ...  \n",
       "9995     36.0  6.500000  \n",
       "9996     36.0  6.500000  \n",
       "9997     36.0  6.500000  \n",
       "9998     36.0  6.500000  \n",
       "9999     36.0  6.500000  \n",
       "\n",
       "[10000 rows x 27 columns]"
      ]
     },
     "execution_count": 6,
     "metadata": {},
     "output_type": "execute_result"
    }
   ],
   "source": [
    "dataset"
   ]
  },
  {
   "cell_type": "code",
   "execution_count": 7,
   "metadata": {},
   "outputs": [],
   "source": [
    "X = dataset.drop('label', axis=1).values\n",
    "Y = dataset['label'].values"
   ]
  },
  {
   "cell_type": "code",
   "execution_count": 8,
   "metadata": {},
   "outputs": [
    {
     "data": {
      "text/plain": [
       "((10000, 26), (10000,))"
      ]
     },
     "execution_count": 8,
     "metadata": {},
     "output_type": "execute_result"
    }
   ],
   "source": [
    "X.shape, Y.shape"
   ]
  },
  {
   "cell_type": "code",
   "execution_count": 9,
   "metadata": {},
   "outputs": [],
   "source": [
    "X_tr, X_ts, Y_tr, Y_ts = train_test_split(X, Y, test_size=0.2, random_state=42)\n",
    "Y_tr = Y_tr.reshape(-1, 1)\n",
    "Y_ts = Y_ts.reshape(-1, 1)"
   ]
  },
  {
   "cell_type": "code",
   "execution_count": 10,
   "metadata": {},
   "outputs": [
    {
     "data": {
      "text/plain": [
       "((8000, 26), (8000, 1), (2000, 26), (2000, 1))"
      ]
     },
     "execution_count": 10,
     "metadata": {},
     "output_type": "execute_result"
    }
   ],
   "source": [
    "X_tr.shape, Y_tr.shape, X_ts.shape, Y_ts.shape"
   ]
  },
  {
   "cell_type": "code",
   "execution_count": 11,
   "metadata": {},
   "outputs": [
    {
     "data": {
      "text/plain": [
       "(0.091625, 0.095)"
      ]
     },
     "execution_count": 11,
     "metadata": {},
     "output_type": "execute_result"
    }
   ],
   "source": [
    "Y_tr.mean(), Y_ts.mean()"
   ]
  },
  {
   "cell_type": "code",
   "execution_count": 12,
   "metadata": {},
   "outputs": [],
   "source": [
    "mms = MinMaxScaler()\n",
    "X_tr = mms.fit_transform(X_tr)\n",
    "X_ts = mms.transform(X_ts)"
   ]
  },
  {
   "cell_type": "code",
   "execution_count": 19,
   "metadata": {},
   "outputs": [
    {
     "data": {
      "text/plain": [
       "<AxesSubplot:>"
      ]
     },
     "execution_count": 19,
     "metadata": {},
     "output_type": "execute_result"
    },
    {
     "data": {
      "image/png": "[encoded data removed]",
      "text/plain": [
       "<Figure size 1152x648 with 2 Axes>"
      ]
     },
     "metadata": {
      "needs_background": "light"
     },
     "output_type": "display_data"
    }
   ],
   "source": [
    "plt.figure(figsize=(16,9))\n",
    "sns.heatmap(dataset.corr(method='spearman'), vmin=-1.0, vmax=1.0)"
   ]
  },
  {
   "cell_type": "code",
   "execution_count": 26,
   "metadata": {},
   "outputs": [],
   "source": [
    "class Model(nn.Module):\n",
    "\n",
    "    def __init__(self):\n",
    "        super(Model, self).__init__()\n",
    "        \n",
    "        self.layers = [\n",
    "            nn.Linear(26, 64),\n",
    "            nn.ReLU(),\n",
    "            nn.Linear(64, 16),\n",
    "            nn.ReLU(),\n",
    "            nn.Linear(16, 1),\n",
    "            nn.Sigmoid(),\n",
    "        ]\n",
    "\n",
    "        self.net = nn.Sequential(*self.layers)\n",
    "\n",
    "    def forward(self, x):\n",
    "        return self.net(x)\n"
   ]
  },
  {
   "cell_type": "code",
   "execution_count": 30,
   "metadata": {},
   "outputs": [
    {
     "name": "stderr",
     "output_type": "stream",
     "text": [
      "100%|██████████| 1000/1000 [00:02<00:00, 369.70it/s, Batch=999, Epoch=0, Loss=0.542]\n",
      "100%|██████████| 1000/1000 [00:02<00:00, 356.68it/s, Batch=999, Epoch=1, Loss=0.437]\n",
      "100%|██████████| 1000/1000 [00:02<00:00, 387.05it/s, Batch=999, Epoch=2, Loss=0.483]\n",
      "100%|██████████| 1000/1000 [00:02<00:00, 375.93it/s, Batch=999, Epoch=3, Loss=0.392]\n",
      "100%|██████████| 1000/1000 [00:02<00:00, 368.20it/s, Batch=999, Epoch=4, Loss=0.164]\n",
      "100%|██████████| 1000/1000 [00:02<00:00, 393.97it/s, Batch=999, Epoch=5, Loss=0.431]\n",
      "100%|██████████| 1000/1000 [00:02<00:00, 367.97it/s, Batch=999, Epoch=6, Loss=0.297]\n",
      "100%|██████████| 1000/1000 [00:02<00:00, 372.48it/s, Batch=999, Epoch=7, Loss=0.148]\n",
      "100%|██████████| 1000/1000 [00:02<00:00, 378.87it/s, Batch=999, Epoch=8, Loss=0.23] \n",
      "100%|██████████| 1000/1000 [00:02<00:00, 401.15it/s, Batch=999, Epoch=9, Loss=0.0949]\n",
      "100%|██████████| 1000/1000 [00:02<00:00, 403.40it/s, Batch=999, Epoch=10, Loss=0.245]\n",
      "100%|██████████| 1000/1000 [00:02<00:00, 400.78it/s, Batch=999, Epoch=11, Loss=0.334]\n",
      "100%|██████████| 1000/1000 [00:02<00:00, 398.97it/s, Batch=999, Epoch=12, Loss=0.304]\n",
      "100%|██████████| 1000/1000 [00:02<00:00, 401.64it/s, Batch=999, Epoch=13, Loss=0.452]\n",
      "100%|██████████| 1000/1000 [00:02<00:00, 347.05it/s, Batch=999, Epoch=14, Loss=0.455]\n",
      "100%|██████████| 1000/1000 [00:02<00:00, 342.01it/s, Batch=999, Epoch=15, Loss=0.365]\n",
      "100%|██████████| 1000/1000 [00:02<00:00, 335.33it/s, Batch=999, Epoch=16, Loss=0.214]\n",
      "100%|██████████| 1000/1000 [00:03<00:00, 316.12it/s, Batch=999, Epoch=17, Loss=0.212]\n",
      "100%|██████████| 1000/1000 [00:02<00:00, 391.29it/s, Batch=999, Epoch=18, Loss=0.195]\n",
      "100%|██████████| 1000/1000 [00:02<00:00, 394.13it/s, Batch=999, Epoch=19, Loss=0.77] \n"
     ]
    }
   ],
   "source": [
    "epochs = 20\n",
    "batch_size = 8\n",
    "n, _ = X_tr.shape\n",
    "batch_count = int(n / batch_size)\n",
    "\n",
    "frac1 = 0.5\n",
    "\n",
    "model = Model().to('cpu')\n",
    "\n",
    "optimizer = torch.optim.Adam(model.parameters())\n",
    "\n",
    "r = np.random.default_rng(42)\n",
    "\n",
    "criterion = nn.BCELoss()\n",
    "\n",
    "history_loss = []\n",
    "\n",
    "for epoch in range(epochs):\n",
    "    model.train()\n",
    "\n",
    "    t =  tqdm(range(batch_count))\n",
    "    for batch in t:\n",
    "        mask = (Y_tr == 0).reshape(-1)\n",
    "\n",
    "        X_tr_0 = X_tr[mask]\n",
    "        X_tr_1 = X_tr[~mask]\n",
    "\n",
    "        Y_tr_0 = Y_tr[mask]\n",
    "        Y_tr_1 = Y_tr[~mask]\n",
    "\n",
    "        n0, _ = X_tr_0.shape\n",
    "        n1, _ = X_tr_1.shape\n",
    "\n",
    "        sample_ids_0 = r.choice(n0, size=min(n, int(batch_size * (1 - frac1))))\n",
    "        sample_ids_1 = r.choice(n1, size=min(n, int(batch_size * frac1)))\n",
    "\n",
    "        X_tr_sel = np.vstack((X_tr_0[sample_ids_0], X_tr_1[sample_ids_1]))\n",
    "        Y_tr_sel = np.vstack((Y_tr_0[sample_ids_0], Y_tr_1[sample_ids_1]))\n",
    "\n",
    "        x = torch.FloatTensor(X_tr_sel).to('cpu')\n",
    "        y = torch.FloatTensor(Y_tr_sel).to('cpu')\n",
    "\n",
    "        out = model(x)\n",
    "\n",
    "        loss = criterion(out, y)\n",
    "        l_val = loss.item()\n",
    "        history_loss.append(l_val)\n",
    "\n",
    "        t.set_postfix(Loss=l_val, Epoch=f'{epoch:3}', Batch=f'{batch:3}')\n",
    "        t.update()\n",
    "\n",
    "        optimizer.zero_grad()\n",
    "        loss.backward()\n",
    "        optimizer.step()\n"
   ]
  },
  {
   "cell_type": "code",
   "execution_count": 35,
   "metadata": {},
   "outputs": [
    {
     "data": {
      "text/plain": [
       "[<matplotlib.lines.Line2D at 0x7f3209179690>]"
      ]
     },
     "execution_count": 35,
     "metadata": {},
     "output_type": "execute_result"
    },
    {
     "data": {
      "image/png": "[encoded data removed]",
      "text/plain": [
       "<Figure size 1152x648 with 1 Axes>"
      ]
     },
     "metadata": {
      "needs_background": "light"
     },
     "output_type": "display_data"
    }
   ],
   "source": [
    "plt.figure(figsize=(16,9))\n",
    "plt.plot(history_loss)"
   ]
  },
  {
   "cell_type": "code",
   "execution_count": null,
   "metadata": {},
   "outputs": [],
   "source": []
  }
 ],
 "metadata": {
  "kernelspec": {
   "display_name": "Python 3.10.4 ('MLPenv': venv)",
   "language": "python",
   "name": "python3"
  },
  "language_info": {
   "codemirror_mode": {
    "name": "ipython",
    "version": 3
   },
   "file_extension": ".py",
   "mimetype": "text/x-python",
   "name": "python",
   "nbconvert_exporter": "python",
   "pygments_lexer": "ipython3",
   "version": "3.10.4"
  },
  "orig_nbformat": 4,
  "vscode": {
   "interpreter": {
    "hash": "14466a2c66190195619bf788b6c328f994ffef9383f4aac1ca1086f1a45f7896"
   }
  }
 },
 "nbformat": 4,
 "nbformat_minor": 2
}
